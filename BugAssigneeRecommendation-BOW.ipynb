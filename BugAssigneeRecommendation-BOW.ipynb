{
 "cells": [
  {
   "cell_type": "code",
   "execution_count": 1,
   "metadata": {},
   "outputs": [
    {
     "name": "stdout",
     "output_type": "stream",
     "text": [
      "init\n"
     ]
    }
   ],
   "source": [
    "print('init')"
   ]
  }
 ],
 "metadata": {
  "interpreter": {
   "hash": "69cb0f6b0fd3784908bdcc85b4a5851dd0057d304feff74327e58739f10281c2"
  },
  "kernelspec": {
   "display_name": "Python 3.9.9 64-bit ('preprocessing_env': venv)",
   "language": "python",
   "name": "python3"
  },
  "language_info": {
   "codemirror_mode": {
    "name": "ipython",
    "version": 3
   },
   "file_extension": ".py",
   "mimetype": "text/x-python",
   "name": "python",
   "nbconvert_exporter": "python",
   "pygments_lexer": "ipython3",
   "version": "3.9.9"
  },
  "orig_nbformat": 4
 },
 "nbformat": 4,
 "nbformat_minor": 2
}
