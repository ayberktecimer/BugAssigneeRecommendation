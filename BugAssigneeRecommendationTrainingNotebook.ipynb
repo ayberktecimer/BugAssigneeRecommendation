{
  "cells": [
    {
      "cell_type": "markdown",
      "source": [
        "Installing packages that are not in the colab"
      ],
      "metadata": {
        "id": "Jifo64Poxkr3"
      }
    },
    {
      "cell_type": "code",
      "source": [
        "!sudo pip install tensorflow --upgrade\n",
        "!pip install -q -U tensorflow-text\n",
        "!pip install -q tf-models-official\n"
      ],
      "metadata": {
        "colab": {
          "base_uri": "https://localhost:8080/"
        },
        "id": "UC_WYYs25_I0",
        "outputId": "cd59ebe1-3e4c-4698-833a-67b92d51a0a6"
      },
      "execution_count": 1,
      "outputs": [
        {
          "output_type": "stream",
          "name": "stdout",
          "text": [
            "Requirement already satisfied: tensorflow in /usr/local/lib/python3.7/dist-packages (2.8.0)\n",
            "Collecting tf-estimator-nightly==2.8.0.dev2021122109\n",
            "  Downloading tf_estimator_nightly-2.8.0.dev2021122109-py2.py3-none-any.whl (462 kB)\n",
            "\u001b[K     |████████████████████████████████| 462 kB 5.5 MB/s \n",
            "\u001b[?25hRequirement already satisfied: google-pasta>=0.1.1 in /usr/local/lib/python3.7/dist-packages (from tensorflow) (0.2.0)\n",
            "Requirement already satisfied: libclang>=9.0.1 in /usr/local/lib/python3.7/dist-packages (from tensorflow) (13.0.0)\n",
            "Requirement already satisfied: gast>=0.2.1 in /usr/local/lib/python3.7/dist-packages (from tensorflow) (0.5.3)\n",
            "Requirement already satisfied: grpcio<2.0,>=1.24.3 in /usr/local/lib/python3.7/dist-packages (from tensorflow) (1.44.0)\n",
            "Requirement already satisfied: termcolor>=1.1.0 in /usr/local/lib/python3.7/dist-packages (from tensorflow) (1.1.0)\n",
            "Requirement already satisfied: opt-einsum>=2.3.2 in /usr/local/lib/python3.7/dist-packages (from tensorflow) (3.3.0)\n",
            "Requirement already satisfied: astunparse>=1.6.0 in /usr/local/lib/python3.7/dist-packages (from tensorflow) (1.6.3)\n",
            "Requirement already satisfied: tensorboard<2.9,>=2.8 in /usr/local/lib/python3.7/dist-packages (from tensorflow) (2.8.0)\n",
            "Requirement already satisfied: h5py>=2.9.0 in /usr/local/lib/python3.7/dist-packages (from tensorflow) (3.1.0)\n",
            "Requirement already satisfied: wrapt>=1.11.0 in /usr/local/lib/python3.7/dist-packages (from tensorflow) (1.13.3)\n",
            "Requirement already satisfied: setuptools in /usr/local/lib/python3.7/dist-packages (from tensorflow) (57.4.0)\n",
            "Requirement already satisfied: keras-preprocessing>=1.1.1 in /usr/local/lib/python3.7/dist-packages (from tensorflow) (1.1.2)\n",
            "Requirement already satisfied: flatbuffers>=1.12 in /usr/local/lib/python3.7/dist-packages (from tensorflow) (2.0)\n",
            "Requirement already satisfied: protobuf>=3.9.2 in /usr/local/lib/python3.7/dist-packages (from tensorflow) (3.17.3)\n",
            "Requirement already satisfied: tensorflow-io-gcs-filesystem>=0.23.1 in /usr/local/lib/python3.7/dist-packages (from tensorflow) (0.24.0)\n",
            "Requirement already satisfied: keras<2.9,>=2.8.0rc0 in /usr/local/lib/python3.7/dist-packages (from tensorflow) (2.8.0)\n",
            "Requirement already satisfied: numpy>=1.20 in /usr/local/lib/python3.7/dist-packages (from tensorflow) (1.21.5)\n",
            "Requirement already satisfied: six>=1.12.0 in /usr/local/lib/python3.7/dist-packages (from tensorflow) (1.15.0)\n",
            "Requirement already satisfied: absl-py>=0.4.0 in /usr/local/lib/python3.7/dist-packages (from tensorflow) (1.0.0)\n",
            "Requirement already satisfied: typing-extensions>=3.6.6 in /usr/local/lib/python3.7/dist-packages (from tensorflow) (3.10.0.2)\n",
            "Requirement already satisfied: wheel<1.0,>=0.23.0 in /usr/local/lib/python3.7/dist-packages (from astunparse>=1.6.0->tensorflow) (0.37.1)\n",
            "Requirement already satisfied: cached-property in /usr/local/lib/python3.7/dist-packages (from h5py>=2.9.0->tensorflow) (1.5.2)\n",
            "Requirement already satisfied: werkzeug>=0.11.15 in /usr/local/lib/python3.7/dist-packages (from tensorboard<2.9,>=2.8->tensorflow) (1.0.1)\n",
            "Requirement already satisfied: tensorboard-data-server<0.7.0,>=0.6.0 in /usr/local/lib/python3.7/dist-packages (from tensorboard<2.9,>=2.8->tensorflow) (0.6.1)\n",
            "Requirement already satisfied: tensorboard-plugin-wit>=1.6.0 in /usr/local/lib/python3.7/dist-packages (from tensorboard<2.9,>=2.8->tensorflow) (1.8.1)\n",
            "Requirement already satisfied: requests<3,>=2.21.0 in /usr/local/lib/python3.7/dist-packages (from tensorboard<2.9,>=2.8->tensorflow) (2.23.0)\n",
            "Requirement already satisfied: google-auth<3,>=1.6.3 in /usr/local/lib/python3.7/dist-packages (from tensorboard<2.9,>=2.8->tensorflow) (1.35.0)\n",
            "Requirement already satisfied: markdown>=2.6.8 in /usr/local/lib/python3.7/dist-packages (from tensorboard<2.9,>=2.8->tensorflow) (3.3.6)\n",
            "Requirement already satisfied: google-auth-oauthlib<0.5,>=0.4.1 in /usr/local/lib/python3.7/dist-packages (from tensorboard<2.9,>=2.8->tensorflow) (0.4.6)\n",
            "Requirement already satisfied: cachetools<5.0,>=2.0.0 in /usr/local/lib/python3.7/dist-packages (from google-auth<3,>=1.6.3->tensorboard<2.9,>=2.8->tensorflow) (4.2.4)\n",
            "Requirement already satisfied: rsa<5,>=3.1.4 in /usr/local/lib/python3.7/dist-packages (from google-auth<3,>=1.6.3->tensorboard<2.9,>=2.8->tensorflow) (4.8)\n",
            "Requirement already satisfied: pyasn1-modules>=0.2.1 in /usr/local/lib/python3.7/dist-packages (from google-auth<3,>=1.6.3->tensorboard<2.9,>=2.8->tensorflow) (0.2.8)\n",
            "Requirement already satisfied: requests-oauthlib>=0.7.0 in /usr/local/lib/python3.7/dist-packages (from google-auth-oauthlib<0.5,>=0.4.1->tensorboard<2.9,>=2.8->tensorflow) (1.3.1)\n",
            "Requirement already satisfied: importlib-metadata>=4.4 in /usr/local/lib/python3.7/dist-packages (from markdown>=2.6.8->tensorboard<2.9,>=2.8->tensorflow) (4.11.2)\n",
            "Requirement already satisfied: zipp>=0.5 in /usr/local/lib/python3.7/dist-packages (from importlib-metadata>=4.4->markdown>=2.6.8->tensorboard<2.9,>=2.8->tensorflow) (3.7.0)\n",
            "Requirement already satisfied: pyasn1<0.5.0,>=0.4.6 in /usr/local/lib/python3.7/dist-packages (from pyasn1-modules>=0.2.1->google-auth<3,>=1.6.3->tensorboard<2.9,>=2.8->tensorflow) (0.4.8)\n",
            "Requirement already satisfied: idna<3,>=2.5 in /usr/local/lib/python3.7/dist-packages (from requests<3,>=2.21.0->tensorboard<2.9,>=2.8->tensorflow) (2.10)\n",
            "Requirement already satisfied: chardet<4,>=3.0.2 in /usr/local/lib/python3.7/dist-packages (from requests<3,>=2.21.0->tensorboard<2.9,>=2.8->tensorflow) (3.0.4)\n",
            "Requirement already satisfied: certifi>=2017.4.17 in /usr/local/lib/python3.7/dist-packages (from requests<3,>=2.21.0->tensorboard<2.9,>=2.8->tensorflow) (2021.10.8)\n",
            "Requirement already satisfied: urllib3!=1.25.0,!=1.25.1,<1.26,>=1.21.1 in /usr/local/lib/python3.7/dist-packages (from requests<3,>=2.21.0->tensorboard<2.9,>=2.8->tensorflow) (1.24.3)\n",
            "Requirement already satisfied: oauthlib>=3.0.0 in /usr/local/lib/python3.7/dist-packages (from requests-oauthlib>=0.7.0->google-auth-oauthlib<0.5,>=0.4.1->tensorboard<2.9,>=2.8->tensorflow) (3.2.0)\n",
            "Installing collected packages: tf-estimator-nightly\n",
            "Successfully installed tf-estimator-nightly-2.8.0.dev2021122109\n",
            "\u001b[K     |████████████████████████████████| 4.9 MB 5.4 MB/s \n",
            "\u001b[K     |████████████████████████████████| 2.2 MB 5.3 MB/s \n",
            "\u001b[K     |████████████████████████████████| 47.8 MB 1.4 MB/s \n",
            "\u001b[K     |████████████████████████████████| 234 kB 46.1 MB/s \n",
            "\u001b[K     |████████████████████████████████| 1.2 MB 38.3 MB/s \n",
            "\u001b[K     |████████████████████████████████| 1.1 MB 42.6 MB/s \n",
            "\u001b[K     |████████████████████████████████| 43 kB 1.9 MB/s \n",
            "\u001b[K     |████████████████████████████████| 636 kB 10.3 MB/s \n",
            "\u001b[K     |████████████████████████████████| 90 kB 5.6 MB/s \n",
            "\u001b[K     |████████████████████████████████| 352 kB 33.6 MB/s \n",
            "\u001b[K     |████████████████████████████████| 99 kB 4.2 MB/s \n",
            "\u001b[?25h  Building wheel for py-cpuinfo (setup.py) ... \u001b[?25l\u001b[?25hdone\n",
            "  Building wheel for seqeval (setup.py) ... \u001b[?25l\u001b[?25hdone\n"
          ]
        }
      ]
    },
    {
      "cell_type": "markdown",
      "source": [
        "Importing Necessary Packages\n",
        "\n"
      ],
      "metadata": {
        "id": "0QTPYlQxw9Tt"
      }
    },
    {
      "cell_type": "code",
      "source": [
        "import os\n",
        "import tensorflow as tf\n",
        "from tensorflow.keras import layers\n",
        "from official.nlp import optimization  # to create AdamW optimizer\n",
        "import tensorflow_hub as hub\n",
        "import tensorflow_text as text\n",
        "from keras import regularizers\n",
        "import json\n",
        "import re\n",
        "import random\n",
        "import numpy as np\n",
        "import matplotlib.pyplot as plt\n",
        "import pickle\n"
      ],
      "metadata": {
        "id": "z2RqS0g258-U"
      },
      "execution_count": 2,
      "outputs": []
    },
    {
      "cell_type": "markdown",
      "source": [
        "Mounting Colab to drive so that we can load/save data"
      ],
      "metadata": {
        "id": "BBtOL12uxK0J"
      }
    },
    {
      "cell_type": "code",
      "source": [
        "from google.colab import drive\n",
        "drive.mount('/content/drive')"
      ],
      "metadata": {
        "colab": {
          "base_uri": "https://localhost:8080/"
        },
        "id": "91pvwgkH6MrR",
        "outputId": "e60e2648-0d4e-426e-8ee1-29b69bf49aa7"
      },
      "execution_count": 3,
      "outputs": [
        {
          "output_type": "stream",
          "name": "stdout",
          "text": [
            "Mounted at /content/drive\n"
          ]
        }
      ]
    },
    {
      "cell_type": "code",
      "source": [
        "data_path = \"/content/drive/My Drive/datasets/\""
      ],
      "metadata": {
        "id": "0Mql8xnzpd3P"
      },
      "execution_count": 4,
      "outputs": []
    },
    {
      "cell_type": "code",
      "source": [
        "model_save_path = \"/content/drive/My Drive/demo-models/\""
      ],
      "metadata": {
        "id": "lBp5se7e2gpi"
      },
      "execution_count": 5,
      "outputs": []
    },
    {
      "cell_type": "code",
      "source": [
        "save_path = \"/content/drive/My Drive/Colab Notebooks/\""
      ],
      "metadata": {
        "id": "rL-Zfcq36Q6V"
      },
      "execution_count": 6,
      "outputs": []
    },
    {
      "cell_type": "markdown",
      "source": [
        "Checking if we have an access to gpu"
      ],
      "metadata": {
        "id": "czjNO1aNxSha"
      }
    },
    {
      "cell_type": "code",
      "source": [
        "%tensorflow_version 2.x\n",
        "'''device_name = tf.test.gpu_device_name()\n",
        "if device_name != '/device:GPU:0':\n",
        "  raise SystemError('GPU device not found')\n",
        "print('Found GPU at: {}'.format(device_name))'''"
      ],
      "metadata": {
        "colab": {
          "base_uri": "https://localhost:8080/",
          "height": 34
        },
        "id": "bwqhqXhY6VPu",
        "outputId": "72f88b34-73f7-43a9-a9a0-5688a928452f"
      },
      "execution_count": 7,
      "outputs": [
        {
          "output_type": "execute_result",
          "data": {
            "application/vnd.google.colaboratory.intrinsic+json": {
              "type": "string"
            },
            "text/plain": [
              "\"device_name = tf.test.gpu_device_name()\\nif device_name != '/device:GPU:0':\\n  raise SystemError('GPU device not found')\\nprint('Found GPU at: {}'.format(device_name))\""
            ]
          },
          "metadata": {},
          "execution_count": 7
        }
      ]
    },
    {
      "cell_type": "code",
      "source": [
        "\n",
        "tf.config.list_physical_devices()"
      ],
      "metadata": {
        "id": "r_Tx9q9X6XwN",
        "colab": {
          "base_uri": "https://localhost:8080/"
        },
        "outputId": "196d2a1b-b2dd-428b-cc4d-adfcace3affa"
      },
      "execution_count": 13,
      "outputs": [
        {
          "output_type": "execute_result",
          "data": {
            "text/plain": [
              "[PhysicalDevice(name='/physical_device:CPU:0', device_type='CPU')]"
            ]
          },
          "metadata": {},
          "execution_count": 13
        }
      ]
    },
    {
      "cell_type": "markdown",
      "source": [
        "# Project Idea & Insights (Bug Assignee Recommendation)"
      ],
      "metadata": {
        "id": "agvcRDw4Msru"
      }
    },
    {
      "cell_type": "markdown",
      "source": [
        " Software Analytics aims to make software developers life easier with building software tools, developing heuristic/ml/dl models using software artifacts (e.g. source code, software repositories, feature specifications, issue/bug reports, test cases, execution traces/logs, and real-world user feedback). To have a better understanding, you may refer to the link (https://www.microsoft.com/en-us/research/group/software-analytics/), it is a short but well-defined description of Software Analytics. The idea behind the project is on bug report assignee recommendation. One of the most famous bug report tools is JIRA, and there are many open source project data available (e.g. https://issues.apache.org/jira/projects/). I chose Apache Kafka as the dataset, it is an open-source distributed event streaming platform, commonly used by Data Engineers. A bug report consists of several fields (Description, Assignee, Reporter, Status, Priority, Resolution, Affects Version/s, Fix Version/s, Component/s) and many more. A bug description is a text field that information related with the bug is defined and an assignee is a developer who is usually assigned by a Team Lead and responsible for fixing that bug. The main idea behind the project is to predict an assignee to a bug report by using its' bug description. This project can be helpful for Software Team Leads while assigning bugs to Software Developers in a team."
      ],
      "metadata": {
        "id": "JnsMKYF_Mz5y"
      }
    },
    {
      "cell_type": "markdown",
      "source": [
        "# Data Loading & Preprocessing"
      ],
      "metadata": {
        "id": "gnGWgiBxxanp"
      }
    },
    {
      "cell_type": "markdown",
      "source": [
        "Reading Bug Assignee data with bug descriptions and assignees"
      ],
      "metadata": {
        "id": "FNNbxrwVxrZo"
      }
    },
    {
      "cell_type": "code",
      "source": [
        "with open(data_path+'project_data.json') as f:\n",
        "    data = json.load(f)\n",
        "    # create description and assignee list\n",
        "    desc_data = []\n",
        "    assignee_data = []\n",
        "    for item in data:\n",
        "        desc_data.append(item['description'])\n",
        "        assignee_data.append(item['assignee'])"
      ],
      "metadata": {
        "id": "gWq0-E9I6cKd"
      },
      "execution_count": 8,
      "outputs": []
    },
    {
      "cell_type": "markdown",
      "source": [
        " Transform description data to tensorflow dataset"
      ],
      "metadata": {
        "id": "yDAda-L1xwN5"
      }
    },
    {
      "cell_type": "code",
      "source": [
        "\n",
        "descriptions = tf.data.Dataset.from_tensor_slices(desc_data)"
      ],
      "metadata": {
        "id": "f0BF3kqi6efP"
      },
      "execution_count": 9,
      "outputs": []
    },
    {
      "cell_type": "markdown",
      "source": [
        "*   I have mapped original names to fake names, so that I don't process any personal data.\n",
        "*   Cell below creates assignee dictionary with id's so that we can feed into neural networks & also can revert predictions (id's) to assignee by names."
      ],
      "metadata": {
        "id": "c19p5-XFx0R1"
      }
    },
    {
      "cell_type": "code",
      "source": [
        "assignee_dict = {assignee: i for i, assignee in enumerate(list(set(assignee_data)))}\n",
        "assignee_dict"
      ],
      "metadata": {
        "id": "Gi9NT0Qd6j3E",
        "colab": {
          "base_uri": "https://localhost:8080/"
        },
        "outputId": "0fc4ec86-2430-4cf8-853f-ad902ee8a0b6"
      },
      "execution_count": 11,
      "outputs": [
        {
          "output_type": "execute_result",
          "data": {
            "text/plain": [
              "{'Alex': 0,\n",
              " 'Alice': 6,\n",
              " 'Anna': 8,\n",
              " 'Barbara': 3,\n",
              " 'Bob': 34,\n",
              " 'Brandon': 28,\n",
              " 'Charlie': 11,\n",
              " 'David': 35,\n",
              " 'Debra': 7,\n",
              " 'Eric': 30,\n",
              " 'George': 12,\n",
              " 'Henry': 22,\n",
              " 'Isabella': 23,\n",
              " 'Jan': 29,\n",
              " 'Jennifer': 31,\n",
              " 'Joe': 33,\n",
              " 'Johannes': 20,\n",
              " 'Julia': 18,\n",
              " 'Lawrence': 9,\n",
              " 'Linda': 17,\n",
              " 'Lisa': 15,\n",
              " 'Maria': 32,\n",
              " 'Mary': 16,\n",
              " 'Matthew': 1,\n",
              " 'Melissa': 10,\n",
              " 'Natalie': 19,\n",
              " 'Patricia': 21,\n",
              " 'Peter': 26,\n",
              " 'Richard': 2,\n",
              " 'Russell': 13,\n",
              " 'Sara': 5,\n",
              " 'Sophia': 24,\n",
              " 'Steven': 4,\n",
              " 'Thomas': 27,\n",
              " 'Tom': 25,\n",
              " 'Vanessa': 14}"
            ]
          },
          "metadata": {},
          "execution_count": 11
        }
      ]
    },
    {
      "cell_type": "markdown",
      "source": [
        "Saving assignee dictionary to a json file so that in the demo notebook we can remap predictions (id's) to fake names "
      ],
      "metadata": {
        "id": "YDDGk5nEycJX"
      }
    },
    {
      "cell_type": "code",
      "source": [
        "'''with open(data_path + 'assignee_dict.json', 'w') as fp:\n",
        "    json.dump(assignee_dict, fp)'''"
      ],
      "metadata": {
        "id": "nuxA1OUGAZs5"
      },
      "execution_count": 12,
      "outputs": []
    },
    {
      "cell_type": "markdown",
      "source": [
        "Creating a target vector with id's"
      ],
      "metadata": {
        "id": "7RO6vxNSynuA"
      }
    },
    {
      "cell_type": "code",
      "source": [
        "assignee_vector = [assignee_dict[assignee] for assignee in assignee_data]\n",
        "assignee_vector[:10]"
      ],
      "metadata": {
        "id": "jP_Jx81R6nOZ",
        "colab": {
          "base_uri": "https://localhost:8080/"
        },
        "outputId": "15f11f7f-bcdc-4784-d106-d680e7259cd5"
      },
      "execution_count": 15,
      "outputs": [
        {
          "output_type": "execute_result",
          "data": {
            "text/plain": [
              "[12, 23, 4, 27, 3, 18, 3, 2, 34, 14]"
            ]
          },
          "metadata": {},
          "execution_count": 15
        }
      ]
    },
    {
      "cell_type": "markdown",
      "source": [
        "Assignee target vector to one hot vector"
      ],
      "metadata": {
        "id": "3_S7MrvvyrEh"
      }
    },
    {
      "cell_type": "code",
      "source": [
        "assignee_tensor = tf.data.Dataset.from_tensor_slices(assignee_vector)\n",
        "assignee_one_hot = assignee_tensor.map(lambda x: tf.one_hot(x, len(assignee_dict)))"
      ],
      "metadata": {
        "id": "q3HC2wei6pKg"
      },
      "execution_count": 17,
      "outputs": []
    },
    {
      "cell_type": "markdown",
      "source": [
        "Zip descriptions and assignee for training"
      ],
      "metadata": {
        "id": "Upv9A3lIz0yl"
      }
    },
    {
      "cell_type": "code",
      "source": [
        "dataset = tf.data.Dataset.zip((descriptions, assignee_one_hot))"
      ],
      "metadata": {
        "id": "I7nvT4Rn6rF6"
      },
      "execution_count": 18,
      "outputs": []
    },
    {
      "cell_type": "markdown",
      "source": [
        "Shuffle dataset, set reshuffle_each_iteration=False as this defaults to True and then splits will be different per epoch.\n"
      ],
      "metadata": {
        "id": "vN-uhSuDz525"
      }
    },
    {
      "cell_type": "code",
      "source": [
        "data_len = len(dataset)\n",
        "dataset = dataset.shuffle(data_len, seed = 42, reshuffle_each_iteration = False)"
      ],
      "metadata": {
        "id": "lnFNdcuw6tDP"
      },
      "execution_count": 19,
      "outputs": []
    },
    {
      "cell_type": "markdown",
      "source": [
        "Split dataset into train validation and test dataset batch size is 32 and validation and test size is 15%"
      ],
      "metadata": {
        "id": "9bw2vaPW0LSo"
      }
    },
    {
      "cell_type": "code",
      "source": [
        "\n",
        "BATCH_SIZE = 32\n",
        "VAL_SIZE = 0.15\n",
        "n_examples = tf.data.experimental.cardinality(dataset).numpy()\n",
        "\n",
        "VAL_SIZE = round(VAL_SIZE*n_examples)\n",
        "test_dataset = dataset.take(VAL_SIZE).batch(batch_size=BATCH_SIZE, drop_remainder=True)\n",
        "val_dataset = dataset.skip(VAL_SIZE).take(VAL_SIZE).batch(batch_size=BATCH_SIZE, drop_remainder=True)\n",
        "train_dataset = dataset.skip(VAL_SIZE*2).batch(batch_size=BATCH_SIZE, drop_remainder=True)"
      ],
      "metadata": {
        "id": "4QYhk6pe6voT"
      },
      "execution_count": 20,
      "outputs": []
    },
    {
      "cell_type": "markdown",
      "source": [
        "Prefetch train val and test dataset"
      ],
      "metadata": {
        "id": "yEZeAElR0P5X"
      }
    },
    {
      "cell_type": "code",
      "source": [
        "\n",
        "train_dataset = train_dataset.prefetch(buffer_size=tf.data.experimental.AUTOTUNE)\n",
        "val_dataset = val_dataset.prefetch(buffer_size=tf.data.experimental.AUTOTUNE)\n",
        "test_dataset = test_dataset.prefetch(buffer_size=tf.data.experimental.AUTOTUNE)\n",
        "\n",
        "print('len(train_dataset): # of batches', len(train_dataset))\n",
        "print('len(val_dataset): # of batches', len(val_dataset))\n",
        "print('len(test_dataset): # of batches', len(test_dataset))"
      ],
      "metadata": {
        "colab": {
          "base_uri": "https://localhost:8080/"
        },
        "id": "nSJhzYCj6zI_",
        "outputId": "ada37c53-1c97-41a2-bf61-06e10ece2135"
      },
      "execution_count": 21,
      "outputs": [
        {
          "output_type": "stream",
          "name": "stdout",
          "text": [
            "len(train_dataset): # of batches 138\n",
            "len(val_dataset): # of batches 29\n",
            "len(test_dataset): # of batches 29\n"
          ]
        }
      ]
    },
    {
      "cell_type": "markdown",
      "source": [
        "Train dataset examples"
      ],
      "metadata": {
        "id": "zb23x4YG0WRJ"
      }
    },
    {
      "cell_type": "code",
      "source": [
        "\n",
        "for input, target in train_dataset.take(1):\n",
        "    print(input)\n",
        "    print(target)"
      ],
      "metadata": {
        "colab": {
          "base_uri": "https://localhost:8080/"
        },
        "id": "DYw6d0jw_O3E",
        "outputId": "375e5194-7f2c-4a6a-cc34-da4b0050aef6"
      },
      "execution_count": 22,
      "outputs": [
        {
          "output_type": "stream",
          "name": "stdout",
          "text": [
            "tf.Tensor(\n",
            "[b'Saw the following stacktrace kafka network thread prio tid fce nid xeefa runnable eef java lang Thread State RUNNABLE at sun nio ch KQueueArrayWrapper kevent Native Method at sun nio ch KQueueArrayWrapper poll KQueueArrayWrapper java at sun nio ch KQueueSelectorImpl doSelect KQueueSelectorImpl java at sun nio ch SelectorImpl lockAndDoSelect SelectorImpl java locked fa a sun nio ch Util locked fa a java util Collections UnmodifiableSet locked fa a sun nio ch KQueueSelectorImpl at sun nio ch SelectorImpl select SelectorImpl java at kafka network Processor run SocketServer scala at java lang Thread run Thread java Test worker prio tid fced nid xc waiting on condition java lang Thread State WAITING parking at sun misc Unsafe park Native Method parking to wait for fad a java util concurrent CountDownLatch Sync at java util concurrent locks LockSupport park LockSupport java at java util concurrent locks AbstractQueuedSynchronizer parkAndCheckInterrupt AbstractQueuedSynchronizer java at java util concurrent '\n",
            " b'The current implementation of Segments used by Rocks Session and Time window stores is in conflict with our current timestamp management model The current segmentation approach allows configuration of a fixed number of segments let s say and a fixed retention time We essentially divide up the retention time into the available number of segments quote expiration date right now retention time seg seg seg seg quote Note that we keep one extra segment so that we can record new events while some events in seg are actually expired but we only drop whole segments so they just get to hang around quote expiration date right now retention time seg seg seg seg quote When it s time to provision segment we know that segment is completely expired so we drop it quote expiration date right now retention time seg seg seg seg quote However the current timestamp management model '\n",
            " b'code java When Trogdor wants to clear all the faults injected to Kibosh it sends the empty JSON object However Kibosh expects faults instead Kibosh should handle the empty JSON object since that s consistent with how Trogdor handles empty JSON fields in general if they re empty they can be omitted We should also have a test for this code '\n",
            " b'When a stream task is being suspended in RecordQueue clear we will clear the ArrayDeque fifoQueue but we do not clear the MinTimestampTracker s maintained list As a result if the task gets resumed we will live with an empty fifoQueue while a populated tracker And hence we use reference equality to check if the smallest timestamp record can be popped we would never be able to pop any more records and hence effectively leading to memory leak '\n",
            " b'Currently we remove the SNAPSHOT marker immediately upon branching Which means that our release artifacts are all released to maven repos with the same version Which is apparently challenging for projects that depend on Kafka to test with the release artifacts We need to revisit discuss and maybe improve the process for the next release '\n",
            " b'From KIP quote Producers and consumers currently expose average and maximum producer fetch request throttle time as JMX metrics These metrics will be updated to reflect total throttle time for the producer or consumer including byte rate throttling and request time throttling for all requests of the producer consumer quote Missed this during the request quota implementation '\n",
            " b'I m porting some unit tests from to The test does the following all embedded in the same java process spins up a zk instance spins up a kafka server using a fresh log directory creates a producer and sends a message creates a high level consumer and verifies that it can consume the message shuts down the consumer stops the kafka server stops zk The test seems to be working fine now however I consistently see the following exception when the consumer connector is shutdown ConsumerFetcherThread group square aac local dbbeb WARN kafka consumer ConsumerFetcherThread ConsumerFetcherThread group square aac local dbbeb Error in fetch Name FetchRequest Version CorrelationId ClientId group ConsumerFetcherThread group square aac local dbbeb ReplicaId MaxWait ms MinBytes bytes RequestInfo test topic PartitionFetchInfo java nio channels ClosedByInterruptException at java nio channels spi AbstractInterruptibleChannel end AbstractInterruptibleChannel java at sun nio ch SocketChannelImpl connect SocketChannelImpl java at kafka network '\n",
            " b'RocksDBStore doesn t keep track of the open iterators So when the store is closed due to rebalance or otherwise this may result in resource leakage as any open iterators will not be closed The store should keep track of the open iterators and close them when the store is closed '\n",
            " b'When creating a simple stream topology to just populate a GlobalKTable I noticed from logging that the stream consumer was doing group coordination requests JoinGroup SyncGroup to the server which it had no reason to do since the global consumer thread populating the table fetches from all partitions and thus doesn t use the group requests So this adds needless overhead on the client network and server I tracked this down to the stream thread consumer which is created regardless of whether it s needed based solely on NUM STREAM THREADS CONFIG which defaults to I guess I found that setting NUM STREAM THREADS CONFIG to will prevent this from happening but it d be a worthwhile improvement to be able to override this setting in cases of topologies like this that don t have any need for stream threads Hence this ticket I originally asked about this on the '\n",
            " b'Saw the following error kafka api ProducerBounceTest testBrokerFailure STANDARD OUT ERROR ReplicaFetcherThread Error due to kafka server ReplicaFetcherThread java lang IllegalMonitorStateException at java util concurrent locks ReentrantLock Sync tryRelease ReentrantLock java at java util concurrent locks AbstractQueuedSynchronizer release AbstractQueuedSynchronizer java at java util concurrent locks AbstractQueuedSynchronizer fullyRelease AbstractQueuedSynchronizer java at java util concurrent locks AbstractQueuedSynchronizer ConditionObject await AbstractQueuedSynchronizer java at kafka server AbstractFetcherThread doWork AbstractFetcherThread scala at kafka utils ShutdownableThread run ShutdownableThread scala ERROR ReplicaFetcherThread Error due to kafka server ReplicaFetcherThread java lang IllegalMonitorStateException at java util concurrent locks ReentrantLock Sync tryRelease ReentrantLock java at java util concurrent locks AbstractQueuedSynchronizer release AbstractQueuedSynchronizer java at java util concurrent locks AbstractQueuedSynchronizer fullyRelease AbstractQueuedSynchronizer java at java util concurrent locks AbstractQueuedSynchronizer ConditionObject await AbstractQueuedSynchronizer java at kafka server AbstractFetcherThread doWork AbstractFetcherThread scala at kafka utils ShutdownableThread run ShutdownableThread scala We should grab the lock before waiting on the condition '\n",
            " b'Refactor kafkatest docker support to fix some issues '\n",
            " b'It makes sense to handle timeout for forwarding request coming from the client instead of retry indefinitely We could either use the api timeout or a customized timeout hook which could be defined by different request types '\n",
            " b'Following on KAFKA Streams needs to handle the new behavior See also https github com apache kafka pull Streams code StreamTask java needs to be modified to handle the new exception From the upstream change commtit abort Transaction can also throw TimeoutException now default MAX BLOCK MS CONFIG in producer is seconds so I think just wrapping it as StreamsException should be reasonable similar to what we do for producer send s TimeoutException https github com apache kafka blob trunk streams src main java org apache kafka streams processor internals RecordCollectorImpl java L L See also https github com apache kafka pull issuecomment '\n",
            " b'Currently the cache stores and accounts for records not bytes or objects This investigation would be around measuring any performance overheads that come from storing bytes or objects As an outcome we should know whether we should store bytes or we should store objects If we store objects the cache still needs to know their size so that it can know if the object fits in the allocated cache space e g if the cache is MB and the object is MB we d have space for such objects The investigation needs to figure out how to find out the size of the object efficiently in Java If we store bytes then we are serialising an object into bytes before caching it i e we take a serialisation cost The investigation needs measure how bad this cost can be especially for the case when all objects fit in cache and '\n",
            " b'This is a follow up to KAFKA which introduced describeConsumerGroup groupId String Map TopicPartition String Map String List TopicPartition It was suggested on the PR to rather have describeConsumerGroup groupId String List ConsumerSummary '\n",
            " b'code Kafka Fetcher for Source source bj docker large INFO org apache kafka clients consumer ConsumerConfig ConsumerConfig values auto commit interval ms auto offset reset latest bootstrap servers check crcs true client id connections max idle ms enable auto commit true exclude internal topics true fetch max bytes fetch max wait ms fetch min bytes group id tcprtdetail flink heartbeat interval ms interceptor classes null key deserializer class org apache kafka common serialization ByteArrayDeserializer max partition fetch bytes max poll interval ms max poll records metadata max age ms metric reporters metrics num samples metrics recording level INFO metrics sample window ms partition assignment strategy class org apache kafka clients consumer RangeAssignor receive buffer bytes reconnect backoff ms request timeout ms retry backoff ms sasl jaas config null sasl kerberos kinit cmd usr bin kinit sasl kerberos min time before relogin sasl kerberos service name null sasl kerberos ticket renew '\n",
            " b'While working on https issues apache org jira browse KAFKA I discovered another bug in Streams when some partitions are corrupted due to offsets out of range we treat it as task corrupted and would close them as dirty and then revive However we forget to overwrite the checkpoint file excluding those out of range partitions to let them be re bootstrapped from the new log start offset and hence when the task is revived it would still load the old offset and start from there and then get the out of range exception again This may cause StreamsUpgradeTest test app upgrade to be flaky We do not see this often because in the past we always delete the checkpoint file after loading it and we usually only see the out of range exception at the beginning of the restoration but not during restoration '\n",
            " b'code test id kafkatest tests streams streams smoke test StreamsSmokeTest test streamsstatus FAILrun time minutes seconds Traceback most recent call last File var lib jenkins workspace system test kafka kafka venv local lib python site packages ducktape py egg ducktape tests runner client py line in run data self run test File var lib jenkins workspace system test kafka kafka venv local lib python site packages ducktape py egg ducktape tests runner client py line in run test return self test context function self test File var lib jenkins workspace system test kafka kafka tests kafkatest tests streams streams smoke test py line in test streams node account ssh grep SUCCESS s self driver STDOUT FILE allow fail False File var lib jenkins workspace system test kafka kafka venv local lib python site packages ducktape py egg ducktape cluster remoteaccount py line in ssh raise RemoteCommandError self cmd exit status '\n",
            " b'Implement a system test that creates network partitions '\n",
            " b'It is often helpful to have the batch level information when deep iterating a segment Currently you have to run DumpLogSegments with and without deep iteration and then correlate the results It would be simpler to print both We could even nest the individual messages to make the batch boundaries clear For example code baseOffset lastOffset magic position offset keysize offset keysize baseOffset lastOffset magic position offset keysize offset keysize offset keysize code '\n",
            " b'JMX metric for kafka network type RequestMetrics name RequestsPerSec request Produce seems to require the API version by adding version at the end of JMX metric name noformat badai Badai Aqrandista MBP bin kafka run class kafka tools JmxTool jmx url service jmx rmi jndi rmi jmxrmi object name kafka network type RequestMetrics name RequestsPerSec request Produce Trying to connect to JMX url service jmx rmi jndi rmi jmxrmi No matched attributes for the queried objects ArrayBuffer kafka network type RequestMetrics name RequestsPerSec request Produce noformat noformat badai Badai Aqrandista MBP bin kafka run class kafka tools JmxTool jmx url service jmx rmi jndi rmi jmxrmi object name kafka network type RequestMetrics name RequestsPerSec request Produce version Trying to connect to JMX url service jmx rmi jndi rmi jmxrmi time kafka network type RequestMetrics name RequestsPerSec request Produce version Count kafka network type RequestMetrics name RequestsPerSec request Produce version EventType '\n",
            " b'When setting batch size to for producer I get the following exception when sending a record noformat java lang NullPointerException at org apache kafka common utils Utils notNull Utils java at org apache kafka clients producer internals RecordAccumulator append RecordAccumulator java at org apache kafka clients producer KafkaProducer doSend KafkaProducer java at org apache kafka clients producer KafkaProducer send KafkaProducer java at org apache kafka clients producer KafkaProducer send KafkaProducer java at KafkaProducerTest exposeNpeOnBatchSizeZero KafkaProducerTest java noformat But documentation says quote a batch size of zero will disable batching entirely quote Please see attached test '\n",
            " b'We need to get system test coverage for the new consumer implementation and the co ordinator '\n",
            " b'KafkaAdminClient describeAcls should handle invalid filters gracefully Specifically it should return a future which yields an exception The following code results in an uncaught IllegalArgumentException in the admin client thread resulting in a zombie admin client code AclBindingFilter aclFilter new AclBindingFilter new ResourcePatternFilter ResourceType UNKNOWN null PatternType ANY AccessControlEntryFilter ANY kafkaAdminClient describeAcls aclFilter values get code See the resulting stacktrace below code ERROR kafka admin client thread adminclient Uncaught exception in thread kafka admin client thread adminclient org apache kafka common utils KafkaThread java lang IllegalArgumentException Filter contain UNKNOWN elements at org apache kafka common requests DescribeAclsRequest validate DescribeAclsRequest java at org apache kafka common requests DescribeAclsRequest init DescribeAclsRequest java at org apache kafka common requests DescribeAclsRequest Builder build DescribeAclsRequest java at org apache kafka common requests DescribeAclsRequest Builder build DescribeAclsRequest java at org apache kafka clients NetworkClient doSend NetworkClient java at org apache kafka clients NetworkClient send NetworkClient java '\n",
            " b'Hi We recently had a kafka node go down suddenly When it came back up it apparently had a corrupt recovery file and refused to startup code WARN main server KafkaServer Error starting up KafkaServerjava lang NumberFormatException For input string at java lang NumberFormatException forInputString NumberFormatException java at java lang Integer parseInt Integer java at java lang Integer parseInt Integer java at scala collection immutable StringLike class toInt StringLike scala at scala collection immutable StringOps toInt StringOps scala at kafka server OffsetCheckpoint read OffsetCheckpoint scala at kafka log LogManager anonfun loadLogs apply LogManager scala at kafka log LogManager anonfun loadLogs apply LogManager scala at scala collection IndexedSeqOptimized class foreach IndexedSeqOptimized scala at scala collection mutable WrappedArray foreach WrappedArray scala at kafka log LogManager loadLogs LogManager scala at kafka log LogManager init LogManager scala at kafka server KafkaServer createLogManager KafkaServer scala at kafka server KafkaServer startup KafkaServer scala code And the '\n",
            " b'Source task offset commits take place on a dedicated thread which periodically triggers offset commits for all of the source tasks on the worker on a user configurable interval and with a user configurable timeout for each offset commit When a task fails offset commits continue to take place In the common case where there is no longer any chance for another successful offset commit for the task this has two negative side effects First confusing log messages are emitted that some users reasonably interpret as a sign that the source task is still alive noformat INFO WorkerSourceTask id Salesforce PC Connector Agency Committing offsets org apache kafka connect runtime WorkerSourceTask INFO WorkerSourceTask id Salesforce PC Connector Agency flushing outstanding messages for offset commit org apache kafka connect runtime WorkerSourceTask noformat Second if the task has any source records pending it will block the shared offset commit thread until the '\n",
            " b'Since https issues apache org jira browse KAFKA chroot pass is created on startup So the description quoted below is wrong bq Note that you must create this path yourself prior to starting the brokercf http mail archives apache org mod mbox kafka users mbox CCAHBVWcjXeUnEHKGZ f kPGJM DC DPaAuiOSGdxcAsgg mail gmail com E '\n",
            " b'We only track request queue size of the socket server However when response send time is high it is useful to know the response queue sizes as well '\n",
            " b'Currently the consumer reports a metric of the lag between the high watermark of a log and the consumer offset It will be useful to report a similar lag metric between the consumer offset and the start offset of the log If this latter lag gets close to it s an indication that the consumer may lose data soon '\n",
            " b'I didn t have my truststore set up correctly The Kafka producer waited until the connection timed out seconds in my case and then threw this exception code Exception in thread main java util concurrent ExecutionException org apache kafka common errors TimeoutException Failed to update metadata after ms at org apache kafka clients producer KafkaProducer FutureFailure init KafkaProducer java at org apache kafka clients producer KafkaProducer send KafkaProducer java at org apache kafka clients producer KafkaProducer send KafkaProducer java code I changed my log level to DEBUG and found this less than two seconds after startup code DEBUG User Server Client URL ChangeGroup org apache kafka common network Selector Connection with kafka disconnected javax net ssl SSLHandshakeException General SSLEngine problem at sun security ssl Handshaker checkThrown Handshaker java at sun security ssl SSLEngineImpl checkTaskThrown SSLEngineImpl java at sun security ssl SSLEngineImpl writeAppRecord SSLEngineImpl java at sun security ssl SSLEngineImpl wrap '\n",
            " b'It behaves better on Windows and provides more useful error messages '\n",
            " b'We have just updated our testing Kafka cluster to and we were facing one issue with migration of legacy configuration to noformat listeners PLAINTEXT advertised listeners PLAINTEXT myPublicHostName REQUIRED for noformat This configuration will be invalid if advertised listeners is not set too Connection string is stored to ZooKeeper according to documentation of advertised listeners and observed behavior but it isn t obvious and difficult to analyze Clients and even other brokers try to communicate with brokers using destination address which is impossible Specification of advertised listeners as shown above fixed the issue Please update documentation at http kafka apache org documentation brokerconfigs and backport the change to and branches h advertised listenersListeners to publish to ZooKeeper for clients to use if different than the listeners above In IaaS environments this may need to be different from the interface to which the broker binds If this is not set the '], shape=(32,), dtype=string)\n",
            "tf.Tensor(\n",
            "[[0. 0. 0. ... 0. 0. 0.]\n",
            " [0. 0. 0. ... 0. 0. 0.]\n",
            " [0. 0. 0. ... 0. 0. 1.]\n",
            " ...\n",
            " [0. 0. 0. ... 0. 0. 0.]\n",
            " [0. 0. 0. ... 0. 0. 0.]\n",
            " [0. 0. 0. ... 0. 0. 0.]], shape=(32, 36), dtype=float32)\n"
          ]
        }
      ]
    },
    {
      "cell_type": "markdown",
      "source": [
        "# Bag-of-Words Implementation"
      ],
      "metadata": {
        "id": "rWCswIQT0nSW"
      }
    },
    {
      "cell_type": "markdown",
      "source": [
        "Creating input vectorizer so that given a string vectorizer maps it to a bag of words vector "
      ],
      "metadata": {
        "id": "zzUKwjIY0v8k"
      }
    },
    {
      "cell_type": "code",
      "source": [
        "input_vectorizer = layers.TextVectorization(\n",
        "    split = \"whitespace\",\n",
        "    standardize = 'lower_and_strip_punctuation',\n",
        "    output_mode='multi_hot')"
      ],
      "metadata": {
        "id": "VihPoX2j7ji0"
      },
      "execution_count": 24,
      "outputs": []
    },
    {
      "cell_type": "markdown",
      "source": [
        "Adapting input vectorizer with our datasets, vectorizer learns the vocabulary from the dataset "
      ],
      "metadata": {
        "id": "wP88AEhZ04w2"
      }
    },
    {
      "cell_type": "code",
      "source": [
        "input_vectorizer.adapt(descriptions)"
      ],
      "metadata": {
        "id": "taauvLwl7obt"
      },
      "execution_count": 25,
      "outputs": []
    },
    {
      "cell_type": "markdown",
      "source": [
        "Our vocabulary consists of 13897 words"
      ],
      "metadata": {
        "id": "Yj-2pJzh1BKh"
      }
    },
    {
      "cell_type": "code",
      "source": [
        "len(input_vectorizer.get_vocabulary())"
      ],
      "metadata": {
        "colab": {
          "base_uri": "https://localhost:8080/"
        },
        "id": "hX5KJ_nWqnGR",
        "outputId": "2efe7b45-3821-462b-c19f-6333b6966c8c"
      },
      "execution_count": 26,
      "outputs": [
        {
          "output_type": "execute_result",
          "data": {
            "text/plain": [
              "13897"
            ]
          },
          "metadata": {},
          "execution_count": 26
        }
      ]
    },
    {
      "cell_type": "markdown",
      "source": [
        "Pickle the config and weights"
      ],
      "metadata": {
        "id": "Z0qO0cVv1GoT"
      }
    },
    {
      "cell_type": "code",
      "source": [
        " \n",
        "'''\n",
        "pickle.dump({'config': input_vectorizer.get_config(),\n",
        "             'weights': input_vectorizer.get_weights()}\n",
        "            , open(save_path + \"input_vectorizer.pkl\", \"wb\"))\n",
        "'''"
      ],
      "metadata": {
        "id": "aQ13xZueidNh"
      },
      "execution_count": 48,
      "outputs": []
    },
    {
      "cell_type": "markdown",
      "source": [
        "An example of input vectorizer with a description and it's vectorizer result"
      ],
      "metadata": {
        "id": "MD1vF5pz1NyG"
      }
    },
    {
      "cell_type": "code",
      "source": [
        "for description in descriptions.take(2):\n",
        "    print(description)\n",
        "    print(input_vectorizer(description))"
      ],
      "metadata": {
        "colab": {
          "base_uri": "https://localhost:8080/"
        },
        "id": "oB21dZwI7u0P",
        "outputId": "8fd07211-bf0e-4c30-cbcc-8da351720e7a"
      },
      "execution_count": 31,
      "outputs": [
        {
          "output_type": "stream",
          "name": "stdout",
          "text": [
            "tf.Tensor(b'code java java util concurrent ExecutionException org apache kafka common errors UnknownTopicOrPartitionException This server does not host this topic partition at org apache kafka common internals KafkaFutureImpl wrapAndThrow KafkaFutureImpl java at org apache kafka common internals KafkaFutureImpl access KafkaFutureImpl java at org apache kafka common internals KafkaFutureImpl SingleWaiter await KafkaFutureImpl java at org apache kafka common internals KafkaFutureImpl get KafkaFutureImpl java at kafka api SaslSslAdminClientIntegrationTest testCreateTopicsResponseMetadataAndConfig SaslSslAdminClientIntegrationTest scala at sun reflect NativeMethodAccessorImpl invoke Native Method at sun reflect NativeMethodAccessorImpl invoke NativeMethodAccessorImpl java at sun reflect DelegatingMethodAccessorImpl invoke DelegatingMethodAccessorImpl java at java lang reflect Method invoke Method java at org junit runners model FrameworkMethod runReflectiveCall FrameworkMethod java at org junit internal runners model ReflectiveCallable run ReflectiveCallable java at org junit runners model FrameworkMethod invokeExplosively FrameworkMethod java at org junit internal runners statements InvokeMethod evaluate InvokeMethod java at org junit internal runners statements RunBefores evaluate RunBefores java at org junit internal runners ', shape=(), dtype=string)\n",
            "tf.Tensor([0. 0. 0. ... 0. 0. 0.], shape=(13897,), dtype=float32)\n",
            "tf.Tensor(b'I found this problem while investigating KAFKA Some broker wide configurations defined in KafkaConfig are mapped with log wide configurations defined in LogConfig providing a default value You can find the complete mapping list in LogConfig TopicConfigSynonyms The problem is some configuration properties validation is different between KafkaConfig and LogConfig png These inconsistencies cause some problems with the dynamic configuration feature When a user dynamically configures the broker configuration with AdminClient alterConfigs the submitted config is validated with KafkaConfig which lacks some validation logic as a result they bypasses the correct validation For example a user can set log cleaner min cleanable ratio to which is obviously prohibited in LogConfig I could not reproduce the situation KAFKA describes but fixing this problem also resolves KAFKA ', shape=(), dtype=string)\n",
            "tf.Tensor([0. 1. 1. ... 0. 0. 0.], shape=(13897,), dtype=float32)\n"
          ]
        }
      ]
    },
    {
      "cell_type": "markdown",
      "source": [
        "Vectorizing whole dataset (descriptions, assignees) so that we can feed it into neural networks"
      ],
      "metadata": {
        "id": "J9F4A3KQ1hyK"
      }
    },
    {
      "cell_type": "code",
      "source": [
        "def vectorize_dataset(description, assignee):\n",
        "\n",
        "  return input_vectorizer(description), assignee\n",
        "\n",
        "bow_train_dataset = train_dataset.map(vectorize_dataset)\n",
        "bow_val_dataset = val_dataset.map(vectorize_dataset)\n",
        "bow_test_dataset = test_dataset.map(vectorize_dataset)\n",
        "for description, assignee in bow_train_dataset.take(1):\n",
        "    print(description, assignee)"
      ],
      "metadata": {
        "colab": {
          "base_uri": "https://localhost:8080/"
        },
        "id": "zEIpcFxh9uSE",
        "outputId": "37cf222e-87fd-47d5-9aeb-d3018e09e5ef"
      },
      "execution_count": 32,
      "outputs": [
        {
          "output_type": "stream",
          "name": "stdout",
          "text": [
            "tf.Tensor(\n",
            "[[0. 1. 1. ... 0. 0. 0.]\n",
            " [0. 1. 1. ... 0. 0. 0.]\n",
            " [0. 1. 1. ... 0. 0. 0.]\n",
            " ...\n",
            " [0. 1. 1. ... 0. 0. 0.]\n",
            " [0. 0. 0. ... 0. 0. 0.]\n",
            " [0. 1. 1. ... 0. 0. 0.]], shape=(32, 13897), dtype=float32) tf.Tensor(\n",
            "[[0. 0. 0. ... 0. 0. 0.]\n",
            " [0. 0. 0. ... 0. 0. 0.]\n",
            " [0. 0. 0. ... 0. 0. 1.]\n",
            " ...\n",
            " [0. 0. 0. ... 0. 0. 0.]\n",
            " [0. 0. 0. ... 0. 0. 0.]\n",
            " [0. 0. 0. ... 0. 0. 0.]], shape=(32, 36), dtype=float32)\n"
          ]
        }
      ]
    },
    {
      "cell_type": "markdown",
      "source": [
        "Creating early stopping to prevent overfitting to training data"
      ],
      "metadata": {
        "id": "_wWPPYNp1rMW"
      }
    },
    {
      "cell_type": "code",
      "source": [
        "tensorboard_callback = tf.keras.callbacks.TensorBoard(log_dir=\"logs\")\n",
        "callback = tf.keras.callbacks.EarlyStopping(monitor='val_loss', patience=2)"
      ],
      "metadata": {
        "id": "uzd0Nlka-k4p"
      },
      "execution_count": 51,
      "outputs": []
    },
    {
      "cell_type": "markdown",
      "source": [
        "Very simple bag of words model that consists of one hidden layer with 64 nodes, one dropout layer and one prediction layer"
      ],
      "metadata": {
        "id": "ZK3Qp1ET1ym-"
      }
    },
    {
      "cell_type": "code",
      "source": [
        "vocab_size = input_vectorizer.vocabulary_size()\n",
        "bow_model = tf.keras.Sequential([\n",
        "  tf.keras.layers.Dense(64, kernel_regularizer=regularizers.l2(0.05),input_shape=(vocab_size,), activation='relu'),\n",
        "  tf.keras.layers.Dropout(0.5),\n",
        "  tf.keras.layers.Dense(len(assignee_dict), activation = \"softmax\")\n",
        "])"
      ],
      "metadata": {
        "id": "Jr-46PX_-Dw6"
      },
      "execution_count": 52,
      "outputs": []
    },
    {
      "cell_type": "markdown",
      "source": [
        "Compiling bow_model with an optimizer, loss and metric"
      ],
      "metadata": {
        "id": "xn-W5is219v0"
      }
    },
    {
      "cell_type": "code",
      "source": [
        "bow_model.compile(optimizer=tf.keras.optimizers.SGD(learning_rate=0.1),\n",
        "              loss=tf.keras.losses.CategoricalCrossentropy(),\n",
        "              metrics = tf.keras.metrics.CategoricalAccuracy()\n",
        ")"
      ],
      "metadata": {
        "id": "V8hqE5BY-SOQ"
      },
      "execution_count": 53,
      "outputs": []
    },
    {
      "cell_type": "markdown",
      "source": [
        "Summary of bow_model"
      ],
      "metadata": {
        "id": "ZLfvl5mp2C2b"
      }
    },
    {
      "cell_type": "code",
      "source": [
        "bow_model.summary()"
      ],
      "metadata": {
        "colab": {
          "base_uri": "https://localhost:8080/"
        },
        "id": "yvxJEht1-W8S",
        "outputId": "b70ac6b5-6925-4c0d-e21d-8679a5863c9f"
      },
      "execution_count": 54,
      "outputs": [
        {
          "output_type": "stream",
          "name": "stdout",
          "text": [
            "Model: \"sequential\"\n",
            "_________________________________________________________________\n",
            " Layer (type)                Output Shape              Param #   \n",
            "=================================================================\n",
            " dense (Dense)               (None, 64)                889472    \n",
            "                                                                 \n",
            " dropout (Dropout)           (None, 64)                0         \n",
            "                                                                 \n",
            " dense_1 (Dense)             (None, 36)                2340      \n",
            "                                                                 \n",
            "=================================================================\n",
            "Total params: 891,812\n",
            "Trainable params: 891,812\n",
            "Non-trainable params: 0\n",
            "_________________________________________________________________\n"
          ]
        }
      ]
    },
    {
      "cell_type": "markdown",
      "source": [
        "Training bow_model"
      ],
      "metadata": {
        "id": "65niOUIG2I0C"
      }
    },
    {
      "cell_type": "code",
      "source": [
        "bow_model.fit(\n",
        "    bow_train_dataset,\n",
        "    validation_data=bow_val_dataset,\n",
        "    epochs=20,\n",
        "    callbacks=[tensorboard_callback,callback])"
      ],
      "metadata": {
        "colab": {
          "base_uri": "https://localhost:8080/"
        },
        "id": "qVGi5j65z9wK",
        "outputId": "77b4581a-03cc-4d65-fb0b-20fe568cd597"
      },
      "execution_count": 55,
      "outputs": [
        {
          "output_type": "stream",
          "name": "stdout",
          "text": [
            "Epoch 1/20\n",
            "138/138 [==============================] - 2s 8ms/step - loss: 5.6613 - categorical_accuracy: 0.0856 - val_loss: 3.8136 - val_categorical_accuracy: 0.0916\n",
            "Epoch 2/20\n",
            "138/138 [==============================] - 1s 7ms/step - loss: 3.5359 - categorical_accuracy: 0.1259 - val_loss: 3.4232 - val_categorical_accuracy: 0.1110\n",
            "Epoch 3/20\n",
            "138/138 [==============================] - 1s 8ms/step - loss: 3.3731 - categorical_accuracy: 0.1510 - val_loss: 3.3744 - val_categorical_accuracy: 0.1659\n",
            "Epoch 4/20\n",
            "138/138 [==============================] - 1s 8ms/step - loss: 3.3469 - categorical_accuracy: 0.1655 - val_loss: 3.3545 - val_categorical_accuracy: 0.1886\n",
            "Epoch 5/20\n",
            "138/138 [==============================] - 3s 19ms/step - loss: 3.3341 - categorical_accuracy: 0.1800 - val_loss: 3.3380 - val_categorical_accuracy: 0.1789\n",
            "Epoch 6/20\n",
            "138/138 [==============================] - 1s 8ms/step - loss: 3.3283 - categorical_accuracy: 0.1873 - val_loss: 3.3294 - val_categorical_accuracy: 0.1886\n",
            "Epoch 7/20\n",
            "138/138 [==============================] - 1s 8ms/step - loss: 3.2951 - categorical_accuracy: 0.1993 - val_loss: 3.3105 - val_categorical_accuracy: 0.2058\n",
            "Epoch 8/20\n",
            "138/138 [==============================] - 1s 7ms/step - loss: 3.2904 - categorical_accuracy: 0.2065 - val_loss: 3.2906 - val_categorical_accuracy: 0.2177\n",
            "Epoch 9/20\n",
            "138/138 [==============================] - 1s 7ms/step - loss: 3.2802 - categorical_accuracy: 0.2099 - val_loss: 3.2924 - val_categorical_accuracy: 0.2112\n",
            "Epoch 10/20\n",
            "138/138 [==============================] - 1s 8ms/step - loss: 3.2804 - categorical_accuracy: 0.2185 - val_loss: 3.2774 - val_categorical_accuracy: 0.2349\n",
            "Epoch 11/20\n",
            "138/138 [==============================] - 1s 8ms/step - loss: 3.2651 - categorical_accuracy: 0.2185 - val_loss: 3.2730 - val_categorical_accuracy: 0.2306\n",
            "Epoch 12/20\n",
            "138/138 [==============================] - 2s 12ms/step - loss: 3.2646 - categorical_accuracy: 0.2237 - val_loss: 3.2864 - val_categorical_accuracy: 0.2101\n",
            "Epoch 13/20\n",
            "138/138 [==============================] - 2s 12ms/step - loss: 3.2573 - categorical_accuracy: 0.2314 - val_loss: 3.2599 - val_categorical_accuracy: 0.2457\n",
            "Epoch 14/20\n",
            "138/138 [==============================] - 1s 7ms/step - loss: 3.2649 - categorical_accuracy: 0.2298 - val_loss: 3.2609 - val_categorical_accuracy: 0.2414\n",
            "Epoch 15/20\n",
            "138/138 [==============================] - 1s 7ms/step - loss: 3.2659 - categorical_accuracy: 0.2296 - val_loss: 3.2476 - val_categorical_accuracy: 0.2522\n",
            "Epoch 16/20\n",
            "138/138 [==============================] - 1s 7ms/step - loss: 3.2356 - categorical_accuracy: 0.2351 - val_loss: 3.2414 - val_categorical_accuracy: 0.2338\n",
            "Epoch 17/20\n",
            "138/138 [==============================] - 1s 7ms/step - loss: 3.2485 - categorical_accuracy: 0.2418 - val_loss: 3.2505 - val_categorical_accuracy: 0.2489\n",
            "Epoch 18/20\n",
            "138/138 [==============================] - 1s 8ms/step - loss: 3.2429 - categorical_accuracy: 0.2428 - val_loss: 3.2400 - val_categorical_accuracy: 0.2629\n",
            "Epoch 19/20\n",
            "138/138 [==============================] - 1s 7ms/step - loss: 3.2513 - categorical_accuracy: 0.2439 - val_loss: 3.2512 - val_categorical_accuracy: 0.2586\n",
            "Epoch 20/20\n",
            "138/138 [==============================] - 1s 7ms/step - loss: 3.2450 - categorical_accuracy: 0.2416 - val_loss: 3.2442 - val_categorical_accuracy: 0.2554\n"
          ]
        },
        {
          "output_type": "execute_result",
          "data": {
            "text/plain": [
              "<keras.callbacks.History at 0x7fbf58a9c450>"
            ]
          },
          "metadata": {},
          "execution_count": 55
        }
      ]
    },
    {
      "cell_type": "markdown",
      "source": [
        "Testing bow_model on test dataset"
      ],
      "metadata": {
        "id": "sxpKDhg52WdW"
      }
    },
    {
      "cell_type": "code",
      "source": [
        "loss, accuracy = bow_model.evaluate(bow_test_dataset)\n",
        "\n",
        "print(f'Loss: {loss}')\n",
        "print(f'Accuracy: {accuracy}')"
      ],
      "metadata": {
        "colab": {
          "base_uri": "https://localhost:8080/"
        },
        "id": "ccBl_mzZXKXJ",
        "outputId": "d2ed63a0-3269-4358-8c4d-62f71c3e3cbd"
      },
      "execution_count": 56,
      "outputs": [
        {
          "output_type": "stream",
          "name": "stdout",
          "text": [
            "29/29 [==============================] - 0s 4ms/step - loss: 3.2011 - categorical_accuracy: 0.2683\n",
            "Loss: 3.2010693550109863\n",
            "Accuracy: 0.26831895112991333\n"
          ]
        }
      ]
    },
    {
      "cell_type": "markdown",
      "source": [
        "Saving bow_model to reload and use in demo notebook"
      ],
      "metadata": {
        "id": "EScGr6dW2uCa"
      }
    },
    {
      "cell_type": "code",
      "source": [
        "saved_model_path = model_save_path + '/bow_model_3'"
      ],
      "metadata": {
        "id": "pwTlhZrxFo_w"
      },
      "execution_count": 57,
      "outputs": []
    },
    {
      "cell_type": "code",
      "source": [
        "bow_model.save(saved_model_path)"
      ],
      "metadata": {
        "colab": {
          "base_uri": "https://localhost:8080/"
        },
        "id": "7v0V3IK4FlVA",
        "outputId": "e962b851-d956-436d-c504-5476def510e8"
      },
      "execution_count": 58,
      "outputs": [
        {
          "output_type": "stream",
          "name": "stdout",
          "text": [
            "INFO:tensorflow:Assets written to: /content/drive/My Drive/Colab Notebooks//bow_model_3/assets\n"
          ]
        },
        {
          "output_type": "stream",
          "name": "stderr",
          "text": [
            "INFO:tensorflow:Assets written to: /content/drive/My Drive/Colab Notebooks//bow_model_3/assets\n"
          ]
        }
      ]
    },
    {
      "cell_type": "markdown",
      "source": [
        "# bidirectional LSTM (BiLSTM) with recurrent neural network (RNN) architecture"
      ],
      "metadata": {
        "id": "SuDmDkdl25Pd"
      }
    },
    {
      "cell_type": "markdown",
      "source": [
        ""
      ],
      "metadata": {
        "id": "P_0DMbSP6lkC"
      }
    },
    {
      "cell_type": "markdown",
      "source": [
        "Initialize a TextVectorization layer for word embedding with the desired parameters"
      ],
      "metadata": {
        "id": "7Xhqkhj-5F_0"
      }
    },
    {
      "cell_type": "code",
      "source": [
        "VOCAB_SIZE = 10000\n",
        "encoder = tf.keras.layers.TextVectorization(\n",
        "    max_tokens=VOCAB_SIZE)\n",
        "encoder.adapt(train_dataset.map(lambda text, label: text))"
      ],
      "metadata": {
        "id": "gWTPiSWYEmH2"
      },
      "execution_count": 35,
      "outputs": []
    },
    {
      "cell_type": "markdown",
      "source": [
        "Some examples from vocabulary"
      ],
      "metadata": {
        "id": "Zwlrl5sX55la"
      }
    },
    {
      "cell_type": "code",
      "source": [
        "vocab = np.array(encoder.get_vocabulary())\n",
        "vocab[:100]"
      ],
      "metadata": {
        "colab": {
          "base_uri": "https://localhost:8080/"
        },
        "outputId": "ffaff2c6-c0b0-4b72-fee4-87d1eebf374e",
        "id": "cXJlDGZZEmH2"
      },
      "execution_count": 36,
      "outputs": [
        {
          "output_type": "execute_result",
          "data": {
            "text/plain": [
              "array(['', '[UNK]', 'the', 'to', 'kafka', 'a', 'at', 'is', 'in', 'java',\n",
              "       'and', 'of', 'org', 'this', 'we', 'apache', 'for', 'it', 'that',\n",
              "       'scala', 'be', 'not', 'consumer', 'with', 'topic', 'on', 'code',\n",
              "       'are', 'if', 'when', 'i', 'as', 'from', 'test', 'log', 'will',\n",
              "       'streams', 'should', 'error', 'producer', 'can', 'broker', 'have',\n",
              "       'but', 'partition', 'an', 'https', 'new', 'by', 'which', 's', 't',\n",
              "       'server', 'clients', 'thread', 'all', 'state', 'connect', 'or',\n",
              "       'request', 'message', 'internals', 'offset', 'there', 'common',\n",
              "       'would', 'junit', 'one', 'time', 'config', 'was', 'lang', 'some',\n",
              "       'group', 'use', 'so', 'partitions', 'only', 'run', 'data',\n",
              "       'currently', 'com', 'kip', 'has', 'client', 'since', 'api',\n",
              "       'messages', 'exception', 'class', 'no', 'leader', 'assert', 'id',\n",
              "       'collection', 'after', 'topics', 'value', 'using', 'following'],\n",
              "      dtype='<U255')"
            ]
          },
          "metadata": {},
          "execution_count": 36
        }
      ]
    },
    {
      "cell_type": "markdown",
      "source": [
        "Initializing BiLSTM model with using two bidirectional LSTM layers"
      ],
      "metadata": {
        "id": "p0cBFkbL58yc"
      }
    },
    {
      "cell_type": "code",
      "source": [
        "rnn_model = tf.keras.Sequential([\n",
        "    encoder,\n",
        "    tf.keras.layers.Embedding(\n",
        "        input_dim=len(encoder.get_vocabulary()),\n",
        "        output_dim=64,\n",
        "        # Use masking to handle the variable sequence lengths\n",
        "        mask_zero=True),\n",
        "    tf.keras.layers.Bidirectional(tf.keras.layers.LSTM(64, dropout=0.2, return_sequences=True)),\n",
        "    tf.keras.layers.Bidirectional(tf.keras.layers.LSTM(32,dropout=0.2)),\n",
        "    tf.keras.layers.Dense(len(assignee_dict))\n",
        "])"
      ],
      "metadata": {
        "id": "7eGXxgKVEmH3"
      },
      "execution_count": 37,
      "outputs": []
    },
    {
      "cell_type": "markdown",
      "source": [
        "RNN with BiLSTM model Summary"
      ],
      "metadata": {
        "id": "ALMaLDNe6gl_"
      }
    },
    {
      "cell_type": "code",
      "source": [
        "print(rnn_model.summary())"
      ],
      "metadata": {
        "colab": {
          "base_uri": "https://localhost:8080/"
        },
        "outputId": "79d24085-13fc-4e4b-ae9e-5ae52ec0ec8b",
        "id": "iX7BGuznEmH3"
      },
      "execution_count": 68,
      "outputs": [
        {
          "output_type": "stream",
          "name": "stdout",
          "text": [
            "Model: \"sequential_2\"\n",
            "_________________________________________________________________\n",
            " Layer (type)                Output Shape              Param #   \n",
            "=================================================================\n",
            " text_vectorization_1 (TextV  (None, None)             0         \n",
            " ectorization)                                                   \n",
            "                                                                 \n",
            " embedding_1 (Embedding)     (None, None, 64)          640000    \n",
            "                                                                 \n",
            " bidirectional_2 (Bidirectio  (None, None, 128)        66048     \n",
            " nal)                                                            \n",
            "                                                                 \n",
            " bidirectional_3 (Bidirectio  (None, 64)               41216     \n",
            " nal)                                                            \n",
            "                                                                 \n",
            " dense_3 (Dense)             (None, 36)                2340      \n",
            "                                                                 \n",
            "=================================================================\n",
            "Total params: 749,604\n",
            "Trainable params: 749,604\n",
            "Non-trainable params: 0\n",
            "_________________________________________________________________\n",
            "None\n"
          ]
        }
      ]
    },
    {
      "cell_type": "markdown",
      "source": [
        "Compiling RNN model with BiLSTM layers"
      ],
      "metadata": {
        "id": "EdemrsED6iq6"
      }
    },
    {
      "cell_type": "code",
      "source": [
        "rnn_model.compile(loss=tf.keras.losses.CategoricalCrossentropy(from_logits=True),\n",
        "              optimizer=tf.keras.optimizers.Adam(1e-3),\n",
        "              metrics=['accuracy'])"
      ],
      "metadata": {
        "id": "uI0wVnQIEmH4"
      },
      "execution_count": 69,
      "outputs": []
    },
    {
      "cell_type": "code",
      "source": [
        "history = rnn_model.fit(train_dataset, epochs=20,\n",
        "                    validation_data=val_dataset,\n",
        "                    callbacks = [callback])"
      ],
      "metadata": {
        "colab": {
          "base_uri": "https://localhost:8080/"
        },
        "outputId": "c155fe2b-43a8-453b-fe0d-e196611df6fd",
        "id": "RscLkvajEmH4"
      },
      "execution_count": 70,
      "outputs": [
        {
          "output_type": "stream",
          "name": "stdout",
          "text": [
            "Epoch 1/20\n",
            "138/138 [==============================] - 44s 184ms/step - loss: 3.4225 - accuracy: 0.0913 - val_loss: 3.3631 - val_accuracy: 0.1110\n",
            "Epoch 2/20\n",
            "138/138 [==============================] - 20s 144ms/step - loss: 3.0565 - accuracy: 0.1667 - val_loss: 3.0287 - val_accuracy: 0.1735\n",
            "Epoch 3/20\n",
            "138/138 [==============================] - 20s 144ms/step - loss: 2.4920 - accuracy: 0.3030 - val_loss: 2.8134 - val_accuracy: 0.2338\n",
            "Epoch 4/20\n",
            "138/138 [==============================] - 20s 145ms/step - loss: 1.9975 - accuracy: 0.4380 - val_loss: 2.6902 - val_accuracy: 0.2802\n",
            "Epoch 5/20\n",
            "138/138 [==============================] - 20s 144ms/step - loss: 1.5897 - accuracy: 0.5587 - val_loss: 2.6146 - val_accuracy: 0.3438\n",
            "Epoch 6/20\n",
            "138/138 [==============================] - 20s 143ms/step - loss: 1.2722 - accuracy: 0.6445 - val_loss: 2.7120 - val_accuracy: 0.3750\n",
            "Epoch 7/20\n",
            "138/138 [==============================] - 20s 145ms/step - loss: 0.9935 - accuracy: 0.7271 - val_loss: 2.6321 - val_accuracy: 0.4224\n"
          ]
        }
      ]
    },
    {
      "cell_type": "markdown",
      "source": [
        "Evaluating our RNN model with BiLSTM layers on test dataset"
      ],
      "metadata": {
        "id": "YjySXNQu7EX5"
      }
    },
    {
      "cell_type": "code",
      "source": [
        "loss, accuracy = rnn_model.evaluate(test_dataset)\n",
        "\n",
        "print(f'Loss: {loss}')\n",
        "print(f'Accuracy: {accuracy}')"
      ],
      "metadata": {
        "colab": {
          "base_uri": "https://localhost:8080/"
        },
        "outputId": "b73e3437-b599-4e7e-c9b9-4f3b7e07e77c",
        "id": "dUcLQm0dEmH4"
      },
      "execution_count": 71,
      "outputs": [
        {
          "output_type": "stream",
          "name": "stdout",
          "text": [
            "29/29 [==============================] - 2s 52ms/step - loss: 2.5828 - accuracy: 0.4138\n",
            "Loss: 2.582845449447632\n",
            "Accuracy: 0.4137931168079376\n"
          ]
        }
      ]
    },
    {
      "cell_type": "markdown",
      "source": [
        "Saving the model"
      ],
      "metadata": {
        "id": "b61yqw4A7Jrx"
      }
    },
    {
      "cell_type": "code",
      "source": [
        "saved_model_path = model_save_path + '/rnn_model_3'"
      ],
      "metadata": {
        "id": "zfQTMs0yGTD7"
      },
      "execution_count": 72,
      "outputs": []
    },
    {
      "cell_type": "code",
      "source": [
        "rnn_model.save(saved_model_path)"
      ],
      "metadata": {
        "colab": {
          "base_uri": "https://localhost:8080/"
        },
        "outputId": "cefe4407-66ee-4ba8-dc16-33b77e12340e",
        "id": "LwcqTStgGTD8"
      },
      "execution_count": 73,
      "outputs": [
        {
          "output_type": "stream",
          "name": "stderr",
          "text": [
            "WARNING:absl:Found untraced functions such as lstm_cell_13_layer_call_fn, lstm_cell_13_layer_call_and_return_conditional_losses, lstm_cell_14_layer_call_fn, lstm_cell_14_layer_call_and_return_conditional_losses, lstm_cell_16_layer_call_fn while saving (showing 5 of 8). These functions will not be directly callable after loading.\n"
          ]
        },
        {
          "output_type": "stream",
          "name": "stdout",
          "text": [
            "INFO:tensorflow:Assets written to: /content/drive/My Drive/Colab Notebooks//rnn_model_3/assets\n"
          ]
        },
        {
          "output_type": "stream",
          "name": "stderr",
          "text": [
            "INFO:tensorflow:Assets written to: /content/drive/My Drive/Colab Notebooks//rnn_model_3/assets\n",
            "WARNING:absl:<keras.layers.recurrent.LSTMCell object at 0x7fbf4f580a50> has the same name 'LSTMCell' as a built-in Keras object. Consider renaming <class 'keras.layers.recurrent.LSTMCell'> to avoid naming conflicts when loading with `tf.keras.models.load_model`. If renaming is not possible, pass the object in the `custom_objects` parameter of the load function.\n",
            "WARNING:absl:<keras.layers.recurrent.LSTMCell object at 0x7fbf4f5827d0> has the same name 'LSTMCell' as a built-in Keras object. Consider renaming <class 'keras.layers.recurrent.LSTMCell'> to avoid naming conflicts when loading with `tf.keras.models.load_model`. If renaming is not possible, pass the object in the `custom_objects` parameter of the load function.\n",
            "WARNING:absl:<keras.layers.recurrent.LSTMCell object at 0x7fbf8ae4a290> has the same name 'LSTMCell' as a built-in Keras object. Consider renaming <class 'keras.layers.recurrent.LSTMCell'> to avoid naming conflicts when loading with `tf.keras.models.load_model`. If renaming is not possible, pass the object in the `custom_objects` parameter of the load function.\n",
            "WARNING:absl:<keras.layers.recurrent.LSTMCell object at 0x7fbf4f599790> has the same name 'LSTMCell' as a built-in Keras object. Consider renaming <class 'keras.layers.recurrent.LSTMCell'> to avoid naming conflicts when loading with `tf.keras.models.load_model`. If renaming is not possible, pass the object in the `custom_objects` parameter of the load function.\n"
          ]
        }
      ]
    },
    {
      "cell_type": "markdown",
      "source": [
        "# BERT: Pre-training of Deep Bidirectional Transformers for Language Understanding"
      ],
      "metadata": {
        "id": "4g2wbkoJ7QtO"
      }
    },
    {
      "cell_type": "markdown",
      "source": [
        "Selecting BERT and preprocess model from [TensorFlow Hub](https://www.tensorflow.org/hub). I preferred the simpler one with _L-2_H-128_A-2, which means 2 layers, 128 dim representations and 2 Attention heads. "
      ],
      "metadata": {
        "id": "M42N-KQK7aaP"
      }
    },
    {
      "cell_type": "code",
      "source": [
        "bert_model_name = 'small_bert/bert_en_uncased_L-2_H-128_A-2' \n",
        "\n",
        "map_name_to_handle = {\n",
        "    'small_bert/bert_en_uncased_L-2_H-128_A-2':\n",
        "        'https://tfhub.dev/tensorflow/small_bert/bert_en_uncased_L-2_H-128_A-2/2',\n",
        "    'small_bert/bert_en_uncased_L-4_H-512_A-8':\n",
        "        'https://tfhub.dev/tensorflow/small_bert/bert_en_uncased_L-4_H-512_A-8/1'}\n",
        "\n",
        "map_model_to_preprocess = {\n",
        "    'small_bert/bert_en_uncased_L-2_H-128_A-2':\n",
        "        'https://tfhub.dev/tensorflow/bert_en_uncased_preprocess/3',\n",
        "    'small_bert/bert_en_uncased_L-4_H-512_A-8':\n",
        "        'https://tfhub.dev/tensorflow/bert_en_uncased_preprocess/3'}\n",
        "\n",
        "# find more models and preprocessing maps at \n",
        "# https://www.tensorflow.org/text/tutorials/classify_text_with_bert?hl=en\n",
        "\n",
        "tfhub_handle_encoder = map_name_to_handle[bert_model_name]\n",
        "tfhub_handle_preprocess = map_model_to_preprocess[bert_model_name]\n",
        "\n",
        "print(f'BERT model selected           : {tfhub_handle_encoder}')\n",
        "print(f'Preprocess model auto-selected: {tfhub_handle_preprocess}')\n",
        "\n",
        "\n",
        "bert_preprocess_model = hub.KerasLayer(tfhub_handle_preprocess)\n",
        "bert_model = hub.KerasLayer(tfhub_handle_encoder)"
      ],
      "metadata": {
        "colab": {
          "base_uri": "https://localhost:8080/"
        },
        "id": "e49jdDjf-9KH",
        "outputId": "8535ea61-82b1-4e1a-d76b-02f7e1f94cab"
      },
      "execution_count": 74,
      "outputs": [
        {
          "output_type": "stream",
          "name": "stdout",
          "text": [
            "BERT model selected           : https://tfhub.dev/tensorflow/small_bert/bert_en_uncased_L-2_H-128_A-2/2\n",
            "Preprocess model auto-selected: https://tfhub.dev/tensorflow/bert_en_uncased_preprocess/3\n"
          ]
        }
      ]
    },
    {
      "cell_type": "markdown",
      "source": [
        "Preprocessing examples"
      ],
      "metadata": {
        "id": "0-yIj51J8UNd"
      }
    },
    {
      "cell_type": "code",
      "source": [
        "\n",
        "text_test = [input[0].numpy(), input[1].numpy()]\n",
        "text_preprocessed = bert_preprocess_model(text_test)\n",
        "\n",
        "print(f'Lines      : {text_test}')\n",
        "print(f'Keys       : {list(text_preprocessed.keys())}')\n",
        "print(f'Shape      : {text_preprocessed[\"input_word_ids\"].shape}')\n",
        "print(f'Word Ids   :')\n",
        "print(f'{text_preprocessed[\"input_word_ids\"][:, :12]}')\n",
        "print(f'Input Mask :')\n",
        "print(f'{text_preprocessed[\"input_mask\"][:, :12]}')\n",
        "print(f'Type Ids   :')\n",
        "print(f'{text_preprocessed[\"input_type_ids\"][:, :12]}')"
      ],
      "metadata": {
        "colab": {
          "base_uri": "https://localhost:8080/"
        },
        "id": "wIPVblxB--cZ",
        "outputId": "88beb9b5-c4af-43ea-ae17-febc208c2a43"
      },
      "execution_count": 75,
      "outputs": [
        {
          "output_type": "stream",
          "name": "stdout",
          "text": [
            "Lines      : [b'Saw the following stacktrace kafka network thread prio tid fce nid xeefa runnable eef java lang Thread State RUNNABLE at sun nio ch KQueueArrayWrapper kevent Native Method at sun nio ch KQueueArrayWrapper poll KQueueArrayWrapper java at sun nio ch KQueueSelectorImpl doSelect KQueueSelectorImpl java at sun nio ch SelectorImpl lockAndDoSelect SelectorImpl java locked fa a sun nio ch Util locked fa a java util Collections UnmodifiableSet locked fa a sun nio ch KQueueSelectorImpl at sun nio ch SelectorImpl select SelectorImpl java at kafka network Processor run SocketServer scala at java lang Thread run Thread java Test worker prio tid fced nid xc waiting on condition java lang Thread State WAITING parking at sun misc Unsafe park Native Method parking to wait for fad a java util concurrent CountDownLatch Sync at java util concurrent locks LockSupport park LockSupport java at java util concurrent locks AbstractQueuedSynchronizer parkAndCheckInterrupt AbstractQueuedSynchronizer java at java util concurrent ', b'The current implementation of Segments used by Rocks Session and Time window stores is in conflict with our current timestamp management model The current segmentation approach allows configuration of a fixed number of segments let s say and a fixed retention time We essentially divide up the retention time into the available number of segments quote expiration date right now retention time seg seg seg seg quote Note that we keep one extra segment so that we can record new events while some events in seg are actually expired but we only drop whole segments so they just get to hang around quote expiration date right now retention time seg seg seg seg quote When it s time to provision segment we know that segment is completely expired so we drop it quote expiration date right now retention time seg seg seg seg quote However the current timestamp management model ']\n",
            "Keys       : ['input_mask', 'input_type_ids', 'input_word_ids']\n",
            "Shape      : (2, 128)\n",
            "Word Ids   :\n",
            "[[  101  2387  1996  2206  9991  6494  3401 10556 24316  2050  2897 11689]\n",
            " [  101  1996  2783  7375  1997  9214  2109  2011  5749  5219  1998  2051]]\n",
            "Input Mask :\n",
            "[[1 1 1 1 1 1 1 1 1 1 1 1]\n",
            " [1 1 1 1 1 1 1 1 1 1 1 1]]\n",
            "Type Ids   :\n",
            "[[0 0 0 0 0 0 0 0 0 0 0 0]\n",
            " [0 0 0 0 0 0 0 0 0 0 0 0]]\n"
          ]
        }
      ]
    },
    {
      "cell_type": "markdown",
      "source": [
        "Model output examples before training with our dataset"
      ],
      "metadata": {
        "id": "du56UB1_8YuM"
      }
    },
    {
      "cell_type": "code",
      "source": [
        "\n",
        "\n",
        "bert_results = bert_model(text_preprocessed)\n",
        "\n",
        "print(f'Loaded BERT: {tfhub_handle_encoder}')\n",
        "print(f'Sequence Outputs Shape:{bert_results[\"sequence_output\"].shape}')\n",
        "print(f'Sequence Outputs Values:{bert_results[\"sequence_output\"][0, :12]}')\n",
        "print(f'Pooled Outputs Shape:{bert_results[\"pooled_output\"].shape}')\n",
        "print(f'Pooled Outputs Values:{bert_results[\"pooled_output\"][0, :12]}')"
      ],
      "metadata": {
        "colab": {
          "base_uri": "https://localhost:8080/"
        },
        "id": "YbLJyFPp_BzY",
        "outputId": "364a6095-b17e-4c71-8c85-258acd94f97b"
      },
      "execution_count": 76,
      "outputs": [
        {
          "output_type": "stream",
          "name": "stdout",
          "text": [
            "Loaded BERT: https://tfhub.dev/tensorflow/small_bert/bert_en_uncased_L-2_H-128_A-2/2\n",
            "Sequence Outputs Shape:(2, 128, 128)\n",
            "Sequence Outputs Values:[[-0.7978706  -0.39245942 -3.112212   ... -1.196876   -1.7813495\n",
            "   0.89129806]\n",
            " [-1.0537355  -0.27181557  0.3092998  ... -1.6049153  -3.1087265\n",
            "   0.96863866]\n",
            " [-1.3172263   0.6885311   0.11612162 ... -1.9693499  -1.795817\n",
            "   0.73868644]\n",
            " ...\n",
            " [-0.07454477  0.3055162   0.5694753  ... -2.7664793  -0.6082494\n",
            "   1.6092896 ]\n",
            " [-0.1131182  -0.06081036  0.34595737 ... -2.9312954  -2.263903\n",
            "   2.9446657 ]\n",
            " [ 0.52549523 -0.61103     0.01515445 ... -2.4205444  -2.1981342\n",
            "   1.6228845 ]]\n",
            "Pooled Outputs Shape:(2, 128)\n",
            "Pooled Outputs Values:[-0.99925137  0.09567033  0.4052936  -0.725472   -0.53752947  0.05948785\n",
            " -0.02080893 -0.8750553  -0.03955572  0.2193361   0.64436907  0.02810927]\n"
          ]
        }
      ]
    },
    {
      "cell_type": "markdown",
      "source": [
        "BERT classifier Model"
      ],
      "metadata": {
        "id": "lipXWkfy8efU"
      }
    },
    {
      "cell_type": "code",
      "source": [
        "def build_bert_classifier_model():\n",
        "  text_input = tf.keras.layers.Input(shape=(), dtype=tf.string, name='text')\n",
        "  preprocessing_layer = hub.KerasLayer(tfhub_handle_preprocess, name='preprocessing')\n",
        "  encoder_inputs = preprocessing_layer(text_input)\n",
        "  encoder = hub.KerasLayer(tfhub_handle_encoder, trainable=True, name='BERT_encoder')\n",
        "  outputs = encoder(encoder_inputs)\n",
        "  net = outputs['pooled_output'] \n",
        "  net = tf.keras.layers.Dropout(0.5, name = 'dropout_1')(net)\n",
        "  net = tf.keras.layers.Dense(len(assignee_dict), activation=None, name='classifier')(net)\n",
        "  return tf.keras.Model(text_input, net)"
      ],
      "metadata": {
        "id": "7WalvzYV_czh"
      },
      "execution_count": 77,
      "outputs": []
    },
    {
      "cell_type": "markdown",
      "source": [
        "Building the classifier and its summary"
      ],
      "metadata": {
        "id": "mL5nLQIU8h1S"
      }
    },
    {
      "cell_type": "code",
      "source": [
        "\n",
        "\n",
        "bert_bug_assignee_classifier = build_bert_classifier_model()\n",
        "\n",
        "bert_bug_assignee_classifier.summary()"
      ],
      "metadata": {
        "colab": {
          "base_uri": "https://localhost:8080/"
        },
        "id": "Q5t4KLzw_grk",
        "outputId": "825c4ef3-84b6-40ab-e9b0-56dc749d9abf"
      },
      "execution_count": 78,
      "outputs": [
        {
          "output_type": "stream",
          "name": "stdout",
          "text": [
            "Model: \"model\"\n",
            "__________________________________________________________________________________________________\n",
            " Layer (type)                   Output Shape         Param #     Connected to                     \n",
            "==================================================================================================\n",
            " text (InputLayer)              [(None,)]            0           []                               \n",
            "                                                                                                  \n",
            " preprocessing (KerasLayer)     {'input_mask': (Non  0           ['text[0][0]']                   \n",
            "                                e, 128),                                                          \n",
            "                                 'input_word_ids':                                                \n",
            "                                (None, 128),                                                      \n",
            "                                 'input_type_ids':                                                \n",
            "                                (None, 128)}                                                      \n",
            "                                                                                                  \n",
            " BERT_encoder (KerasLayer)      {'default': (None,   4385921     ['preprocessing[0][0]',          \n",
            "                                128),                             'preprocessing[0][1]',          \n",
            "                                 'sequence_output':               'preprocessing[0][2]']          \n",
            "                                 (None, 128, 128),                                                \n",
            "                                 'pooled_output': (                                               \n",
            "                                None, 128),                                                       \n",
            "                                 'encoder_outputs':                                               \n",
            "                                 [(None, 128, 128),                                               \n",
            "                                 (None, 128, 128)]}                                               \n",
            "                                                                                                  \n",
            " dropout_1 (Dropout)            (None, 128)          0           ['BERT_encoder[0][3]']           \n",
            "                                                                                                  \n",
            " classifier (Dense)             (None, 36)           4644        ['dropout_1[0][0]']              \n",
            "                                                                                                  \n",
            "==================================================================================================\n",
            "Total params: 4,390,565\n",
            "Trainable params: 4,390,564\n",
            "Non-trainable params: 1\n",
            "__________________________________________________________________________________________________\n"
          ]
        }
      ]
    },
    {
      "cell_type": "markdown",
      "source": [
        "Classifier output examples before training"
      ],
      "metadata": {
        "id": "xbvUIX6M8lm0"
      }
    },
    {
      "cell_type": "code",
      "source": [
        "\n",
        "\n",
        "bert_raw_result = bert_bug_assignee_classifier(tf.constant(text_test))\n",
        "print(tf.nn.softmax(bert_raw_result))"
      ],
      "metadata": {
        "colab": {
          "base_uri": "https://localhost:8080/"
        },
        "id": "5dl-PMlZ_liJ",
        "outputId": "46ef4e32-7b37-4f10-d48f-9a9ea22d1dda"
      },
      "execution_count": 79,
      "outputs": [
        {
          "output_type": "stream",
          "name": "stdout",
          "text": [
            "tf.Tensor(\n",
            "[[0.00461664 0.07849946 0.01016529 0.01397957 0.01025757 0.01672038\n",
            "  0.00616649 0.0613345  0.01570095 0.00954723 0.01022766 0.01668776\n",
            "  0.0139678  0.02163674 0.01842308 0.00338146 0.00806365 0.03490677\n",
            "  0.01189775 0.06619357 0.01798718 0.05329616 0.02640694 0.05112782\n",
            "  0.01086289 0.07753524 0.01285555 0.10941197 0.0191719  0.00705469\n",
            "  0.08049639 0.01318844 0.04913106 0.01021915 0.00930987 0.0195704 ]\n",
            " [0.00705634 0.02845198 0.0245383  0.02295719 0.04416997 0.01461216\n",
            "  0.00628969 0.09558216 0.01008123 0.01466828 0.02309811 0.01269863\n",
            "  0.01995655 0.01190472 0.00750264 0.01272508 0.0160588  0.03536161\n",
            "  0.00775232 0.12998621 0.00659966 0.04150823 0.05348043 0.0212934\n",
            "  0.03240777 0.01298452 0.0223408  0.06290666 0.03599936 0.01287823\n",
            "  0.05152658 0.01477064 0.01505962 0.02538559 0.02499449 0.02041201]], shape=(2, 36), dtype=float32)\n"
          ]
        }
      ]
    },
    {
      "cell_type": "markdown",
      "source": [
        "Plotting the BERT model"
      ],
      "metadata": {
        "id": "u2SLELtD8p2v"
      }
    },
    {
      "cell_type": "code",
      "source": [
        "\n",
        "tf.keras.utils.plot_model(bert_bug_assignee_classifier)"
      ],
      "metadata": {
        "colab": {
          "base_uri": "https://localhost:8080/",
          "height": 465
        },
        "id": "u_S22__Z_ozW",
        "outputId": "5350fee1-f204-484a-bb1e-8546db0a4b3b"
      },
      "execution_count": 80,
      "outputs": [
        {
          "output_type": "execute_result",
          "data": {
            "image/png": "[encoded data removed]",
            "text/plain": [
              "<IPython.core.display.Image object>"
            ]
          },
          "metadata": {},
          "execution_count": 80
        }
      ]
    },
    {
      "cell_type": "markdown",
      "source": [
        "Creating optimizer, loss, metrics and then compiling the BERT classifier"
      ],
      "metadata": {
        "id": "W_EIcIyd8w17"
      }
    },
    {
      "cell_type": "code",
      "source": [
        "epochs = 15\n",
        "steps_per_epoch = tf.data.experimental.cardinality(train_dataset).numpy()\n",
        "num_train_steps = steps_per_epoch * epochs\n",
        "\n",
        "# Here we are using AdamW with a linear learning rate schedule.\n",
        "# Because of the rolling averages in the optimization logic we need a few warm up steps.\n",
        "warmup_ratio = 0.1\n",
        "num_warmup_steps = int(warmup_ratio*num_train_steps)\n",
        "init_lr = 1e-3\n",
        "\n",
        "print('steps per epoch',steps_per_epoch)\n",
        "print('num train',num_train_steps)\n",
        "print('num warmup',num_warmup_steps)\n",
        "\n",
        "optimizer = optimization.create_optimizer(init_lr=init_lr,\n",
        "                                          num_train_steps=num_train_steps,\n",
        "                                          num_warmup_steps=num_warmup_steps,\n",
        "                                          optimizer_type='adamw')\n",
        "\n",
        "loss = tf.keras.losses.CategoricalCrossentropy(from_logits=True)\n",
        "metrics = tf.keras.metrics.CategoricalAccuracy()\n",
        "\n",
        "# compiling the model\n",
        "bert_bug_assignee_classifier.compile(optimizer=optimizer,\n",
        "                         loss=loss,\n",
        "                         metrics=metrics)"
      ],
      "metadata": {
        "id": "IfxUc_fP_uCD",
        "colab": {
          "base_uri": "https://localhost:8080/"
        },
        "outputId": "f2ae322e-7c30-4ad9-c98d-7d5f60d3adad"
      },
      "execution_count": 81,
      "outputs": [
        {
          "output_type": "stream",
          "name": "stdout",
          "text": [
            "steps per epoch 138\n",
            "num train 2070\n",
            "num warmup 207\n"
          ]
        }
      ]
    },
    {
      "cell_type": "markdown",
      "source": [
        "Visualizing our learning rate schedule"
      ],
      "metadata": {
        "id": "99q2dJQI83QE"
      }
    },
    {
      "cell_type": "code",
      "source": [
        "\n",
        "x = np.array([0,warmup_ratio,1])\n",
        "y = np.array([0, init_lr,0])\n",
        "plt.plot(x,y)"
      ],
      "metadata": {
        "colab": {
          "base_uri": "https://localhost:8080/",
          "height": 281
        },
        "id": "NXhPPofV_6fl",
        "outputId": "f20e2193-ad33-4033-a89a-75a7f37ebf82"
      },
      "execution_count": 82,
      "outputs": [
        {
          "output_type": "execute_result",
          "data": {
            "text/plain": [
              "[<matplotlib.lines.Line2D at 0x7fbf451b4f50>]"
            ]
          },
          "metadata": {},
          "execution_count": 82
        },
        {
          "output_type": "display_data",
          "data": {
            "image/png": "[encoded data removed]",
            "text/plain": [
              "<Figure size 432x288 with 1 Axes>"
            ]
          },
          "metadata": {
            "needs_background": "light"
          }
        }
      ]
    },
    {
      "cell_type": "markdown",
      "source": [
        "Training BERT classifier"
      ],
      "metadata": {
        "id": "sddT1gRd85EA"
      }
    },
    {
      "cell_type": "code",
      "source": [
        "print(f'Training BERT model with {tfhub_handle_encoder}')\n",
        "history = bert_bug_assignee_classifier.fit(x=train_dataset,\n",
        "                               validation_data=val_dataset,\n",
        "                               epochs=epochs,\n",
        "                               callbacks = [callback])"
      ],
      "metadata": {
        "colab": {
          "base_uri": "https://localhost:8080/"
        },
        "id": "QcZv5VoD5dGK",
        "outputId": "08bb19df-fb8c-4422-f508-11004d3a7742"
      },
      "execution_count": 83,
      "outputs": [
        {
          "output_type": "stream",
          "name": "stdout",
          "text": [
            "Training BERT model with https://tfhub.dev/tensorflow/small_bert/bert_en_uncased_L-2_H-128_A-2/2\n",
            "Epoch 1/15\n",
            "138/138 [==============================] - 36s 169ms/step - loss: 3.7539 - categorical_accuracy: 0.0609 - val_loss: 3.3524 - val_categorical_accuracy: 0.1293\n",
            "Epoch 2/15\n",
            "138/138 [==============================] - 22s 161ms/step - loss: 3.2892 - categorical_accuracy: 0.1402 - val_loss: 2.9085 - val_categorical_accuracy: 0.1929\n",
            "Epoch 3/15\n",
            "138/138 [==============================] - 22s 159ms/step - loss: 2.6979 - categorical_accuracy: 0.2600 - val_loss: 2.5809 - val_categorical_accuracy: 0.2866\n",
            "Epoch 4/15\n",
            "138/138 [==============================] - 22s 158ms/step - loss: 1.9967 - categorical_accuracy: 0.4454 - val_loss: 2.2533 - val_categorical_accuracy: 0.4095\n",
            "Epoch 5/15\n",
            "138/138 [==============================] - 22s 159ms/step - loss: 1.3819 - categorical_accuracy: 0.6221 - val_loss: 2.1695 - val_categorical_accuracy: 0.4612\n",
            "Epoch 6/15\n",
            "138/138 [==============================] - 22s 160ms/step - loss: 0.9031 - categorical_accuracy: 0.7647 - val_loss: 2.1428 - val_categorical_accuracy: 0.5183\n",
            "Epoch 7/15\n",
            "138/138 [==============================] - 22s 161ms/step - loss: 0.5550 - categorical_accuracy: 0.8616 - val_loss: 2.1488 - val_categorical_accuracy: 0.5388\n",
            "Epoch 8/15\n",
            "138/138 [==============================] - 22s 160ms/step - loss: 0.3276 - categorical_accuracy: 0.9216 - val_loss: 2.1589 - val_categorical_accuracy: 0.5550\n"
          ]
        }
      ]
    },
    {
      "cell_type": "markdown",
      "source": [
        "Testing the model on test dataset"
      ],
      "metadata": {
        "id": "pzAg334-89so"
      }
    },
    {
      "cell_type": "code",
      "source": [
        "loss, accuracy = bert_bug_assignee_classifier.evaluate(test_dataset)\n",
        "\n",
        "print(f'Loss: {loss}')\n",
        "print(f'Accuracy: {accuracy}')"
      ],
      "metadata": {
        "colab": {
          "base_uri": "https://localhost:8080/"
        },
        "id": "4Tw3z1PYDajd",
        "outputId": "db8626c9-7166-4157-9d5d-578f46c69978"
      },
      "execution_count": 84,
      "outputs": [
        {
          "output_type": "stream",
          "name": "stdout",
          "text": [
            "29/29 [==============================] - 3s 105ms/step - loss: 2.2282 - categorical_accuracy: 0.5560\n",
            "Loss: 2.228231191635132\n",
            "Accuracy: 0.556034505367279\n"
          ]
        }
      ]
    },
    {
      "cell_type": "markdown",
      "source": [
        "Saving the model"
      ],
      "metadata": {
        "id": "8gE3Uu0Y_ezB"
      }
    },
    {
      "cell_type": "code",
      "source": [
        "saved_model_path = model_save_path + '/bert_model_4'"
      ],
      "metadata": {
        "id": "WKMPEIUFGf0x"
      },
      "execution_count": 85,
      "outputs": []
    },
    {
      "cell_type": "code",
      "source": [
        "bert_bug_assignee_classifier.save(saved_model_path,include_optimizer=False)"
      ],
      "metadata": {
        "colab": {
          "base_uri": "https://localhost:8080/"
        },
        "outputId": "6d9788f2-e3d9-4bd3-8e2a-ed698623e6a2",
        "id": "nHhe-t9_Gf0y"
      },
      "execution_count": 86,
      "outputs": [
        {
          "output_type": "stream",
          "name": "stderr",
          "text": [
            "WARNING:absl:Found untraced functions such as restored_function_body, restored_function_body, restored_function_body, restored_function_body, restored_function_body while saving (showing 5 of 66). These functions will not be directly callable after loading.\n"
          ]
        },
        {
          "output_type": "stream",
          "name": "stdout",
          "text": [
            "INFO:tensorflow:Assets written to: /content/drive/My Drive/Colab Notebooks//bert_model_4/assets\n"
          ]
        },
        {
          "output_type": "stream",
          "name": "stderr",
          "text": [
            "INFO:tensorflow:Assets written to: /content/drive/My Drive/Colab Notebooks//bert_model_4/assets\n"
          ]
        }
      ]
    }
  ],
  "metadata": {
    "interpreter": {
      "hash": "aee8b7b246df8f9039afb4144a1f6fd8d2ca17a180786b69acc140d282b71a49"
    },
    "kernelspec": {
      "display_name": "Python 3.9.9 64-bit",
      "language": "python",
      "name": "python3"
    },
    "language_info": {
      "name": "python",
      "version": "3.9.9"
    },
    "orig_nbformat": 4,
    "colab": {
      "name": "BAR.ipynb",
      "provenance": []
    },
    "accelerator": "GPU"
  },
  "nbformat": 4,
  "nbformat_minor": 0
}